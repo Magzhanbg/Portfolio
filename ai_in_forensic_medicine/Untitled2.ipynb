{
  "nbformat": 4,
  "nbformat_minor": 0,
  "metadata": {
    "colab": {
      "provenance": []
    },
    "kernelspec": {
      "name": "python3",
      "display_name": "Python 3"
    },
    "language_info": {
      "name": "python"
    }
  },
  "cells": [
    {
      "cell_type": "code",
      "source": [
        "import pandas as pd\n",
        "import numpy as np\n",
        "from sklearn.model_selection import train_test_split\n",
        "from sklearn.preprocessing import StandardScaler, OneHotEncoder\n",
        "from sklearn.compose import ColumnTransformer\n",
        "from sklearn.pipeline import Pipeline\n",
        "from sklearn.impute import SimpleImputer\n",
        "from sklearn.decomposition import PCA\n",
        "from sklearn.feature_selection import SelectKBest, f_classif\n",
        "from xgboost import XGBRegressor\n",
        "from sklearn.metrics import mean_squared_error, mean_absolute_error, r2_score\n",
        "import joblib\n",
        "\n",
        "df = pd.read_csv('dataset.csv')\n",
        "\n",
        "numeric_features = ['Температура на момент обнаружения (°C)', 'Влажность (%)', 'Скорость ветра (км/ч)', 'Возраст']\n",
        "categorical_features = ['Район', 'Причина смерти', 'Пол', 'Ранения', 'Место ранения']\n",
        "\n",
        "numeric_transformer = Pipeline(steps=[\n",
        "    ('imputer', SimpleImputer(strategy='mean')),\n",
        "    ('scaler', StandardScaler()),\n",
        "    ('pca', PCA(n_components=0.95)),\n",
        "    ('feature_selection', SelectKBest(f_classif, k='all'))\n",
        "])\n",
        "\n",
        "categorical_transformer = Pipeline(steps=[\n",
        "    ('imputer', SimpleImputer(strategy='constant', fill_value='missing')),\n",
        "    ('onehot', OneHotEncoder(handle_unknown='ignore'))\n",
        "])\n",
        "\n",
        "preprocessor = ColumnTransformer(\n",
        "    transformers=[\n",
        "        ('num', numeric_transformer, numeric_features),\n",
        "        ('cat', categorical_transformer, categorical_features)\n",
        "    ])\n",
        "\n",
        "xg_reg = XGBRegressor(objective='reg:squarederror', colsample_bytree=0.5, learning_rate=0.05,\n",
        "                      max_depth=10, alpha=1, n_estimators=100)\n",
        "\n",
        "pipeline = Pipeline(steps=[('preprocessor', preprocessor),\n",
        "                           ('regressor', xg_reg)])\n",
        "\n",
        "X_train, X_test, y_train, y_test = train_test_split(df.drop('Время с момента смерти (часы)', axis=1), df['Время с момента смерти (часы)'], test_size=0.2, random_state=42)\n",
        "\n",
        "pipeline.fit(X_train, y_train)\n",
        "\n",
        "new_data = {\n",
        "    'Дата и время обнаружения': '2024-03-6 10:20:00',\n",
        "    'Район': 'Алмалинский',\n",
        "    'Температура на момент обнаружения (°C)': 31.5,\n",
        "    'Влажность (%)': 30,\n",
        "    'Скорость ветра (км/ч)': 10,\n",
        "    'Возраст': 50,\n",
        "    'Причина смерти': 'естественная',\n",
        "    'Пол': 'мужской',\n",
        "    'Ранения': 'нет',\n",
        "    'Место ранения': 'голова'\n",
        "}\n",
        "\n",
        "new_data_df = pd.DataFrame([new_data])\n",
        "\n",
        "predicted_death_time = pipeline.predict(new_data_df)\n",
        "\n",
        "print(\"Predicted time of death:\", predicted_death_time[0])\n",
        "\n",
        "joblib.dump(pipeline, 'death_time_predictor_model.pkl')\n"
      ],
      "metadata": {
        "colab": {
          "base_uri": "https://localhost:8080/"
        },
        "id": "EUXToHTtbfN6",
        "outputId": "2dc6d72f-5efe-4684-b327-e78a4ff0f2c0"
      },
      "execution_count": 7,
      "outputs": [
        {
          "output_type": "stream",
          "name": "stdout",
          "text": [
            "Predicted time of death: 32.181282\n"
          ]
        },
        {
          "output_type": "execute_result",
          "data": {
            "text/plain": [
              "['death_time_predictor_model.pkl']"
            ]
          },
          "metadata": {},
          "execution_count": 7
        }
      ]
    },
    {
      "cell_type": "code",
      "source": [
        "import pandas as pd\n",
        "import numpy as np\n",
        "from sklearn.model_selection import train_test_split\n",
        "from sklearn.preprocessing import StandardScaler, OneHotEncoder\n",
        "from sklearn.compose import ColumnTransformer\n",
        "from sklearn.pipeline import Pipeline\n",
        "from sklearn.impute import SimpleImputer\n",
        "from sklearn.decomposition import PCA\n",
        "from sklearn.feature_selection import SelectKBest, f_classif\n",
        "from xgboost import XGBRegressor\n",
        "from sklearn.metrics import mean_squared_error, mean_absolute_error, r2_score\n",
        "import joblib\n",
        "\n",
        "df = pd.read_csv('dataset.csv')\n",
        "\n",
        "X = df.drop('Время с момента смерти (часы)', axis=1)\n",
        "y = df['Время с момента смерти (часы)']\n",
        "\n",
        "numeric_features = ['Температура на момент обнаружения (°C)', 'Влажность (%)', 'Скорость ветра (км/ч)', 'Возраст']\n",
        "numeric_transformer = Pipeline(steps=[\n",
        "    ('imputer', SimpleImputer(strategy='mean')),\n",
        "    ('scaler', StandardScaler()),\n",
        "    ('pca', PCA(n_components=0.95)),\n",
        "    ('feature_selection', SelectKBest(f_classif, k='all'))\n",
        "])\n",
        "\n",
        "categorical_features = ['Район', 'Причина смерти', 'Пол', 'Ранения', 'Место ранения']\n",
        "categorical_transformer = Pipeline(steps=[\n",
        "    ('imputer', SimpleImputer(strategy='constant', fill_value='missing')),\n",
        "    ('onehot', OneHotEncoder(handle_unknown='ignore'))\n",
        "])\n",
        "\n",
        "preprocessor = ColumnTransformer(\n",
        "    transformers=[\n",
        "        ('num', numeric_transformer, numeric_features),\n",
        "        ('cat', categorical_transformer, categorical_features)\n",
        "    ])\n",
        "\n",
        "xg_reg = XGBRegressor(objective='reg:squarederror', colsample_bytree=0.5, learning_rate=0.05,\n",
        "                      max_depth=10, alpha=1, n_estimators=100)\n",
        "\n",
        "pipeline = Pipeline(steps=[('preprocessor', preprocessor),\n",
        "                           ('model', xg_reg)])\n",
        "\n",
        "X_train, X_test, y_train, y_test = train_test_split(X, y, test_size=0.2, random_state=42)\n",
        "\n",
        "pipeline.fit(X_train, y_train)\n",
        "\n",
        "y_pred = pipeline.predict(X_test)\n",
        "\n",
        "mse = mean_squared_error(y_test, y_pred)\n",
        "rmse = np.sqrt(mse)\n",
        "mae = mean_absolute_error(y_test, y_pred)\n",
        "r2 = r2_score(y_test, y_pred)\n",
        "\n",
        "print(f'Mean Squared Error (MSE): {mse}')\n",
        "print(f'Root Mean Squared Error (RMSE): {rmse}')\n",
        "print(f'Mean Absolute Error (MAE): {mae}')\n",
        "\n",
        "joblib.dump(pipeline, 'death_time_predictor_model.pkl')\n"
      ],
      "metadata": {
        "colab": {
          "base_uri": "https://localhost:8080/"
        },
        "id": "ITW14tRYOsT4",
        "outputId": "b97a31ac-7863-4c99-d770-6f5b1301f04f"
      },
      "execution_count": 5,
      "outputs": [
        {
          "output_type": "stream",
          "name": "stdout",
          "text": [
            "Mean Squared Error (MSE): 430.1529158945713\n",
            "Root Mean Squared Error (RMSE): 20.740128155210886\n",
            "Mean Absolute Error (MAE): 17.904498950004577\n"
          ]
        },
        {
          "output_type": "execute_result",
          "data": {
            "text/plain": [
              "['death_time_predictor_model.pkl']"
            ]
          },
          "metadata": {},
          "execution_count": 5
        }
      ]
    }
  ]
}